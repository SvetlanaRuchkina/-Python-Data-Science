{
 "cells": [
  {
   "cell_type": "code",
   "execution_count": 1306,
   "metadata": {},
   "outputs": [],
   "source": [
    "import pandas as pd\n",
    "import numpy as np\n",
    "import matplotlib.pyplot as plt\n",
    "import seaborn as sb\n",
    "import matplotlib\n",
    "import pickle\n",
    "from sklearn.model_selection import train_test_split\n",
    "from sklearn.preprocessing import StandardScaler\n",
    "from sklearn.linear_model import LinearRegression\n",
    "from sklearn.ensemble import RandomForestRegressor, GradientBoostingRegressor\n",
    "from sklearn.metrics import r2_score as r2, mean_absolute_error as mae, mean_squared_error as mse\n",
    "from sklearn.model_selection import KFold, GridSearchCV\n",
    "%matplotlib inline\n",
    "%config InlineBackrnd.figure_format='svg'\n",
    "matplotlib.rcParams.update({'font.size':12})"
   ]
  },
  {
   "cell_type": "markdown",
   "metadata": {},
   "source": [
    "# Загрузка данных\n",
    "__Описание датасета__\n",
    "\n",
    "* **Id** - идентификационный номер квартиры\n",
    "* **DistrictId** - идентификационный номер района\n",
    "* **Rooms** - количество комнат\n",
    "* **Square** - площадь\n",
    "* **LifeSquare** - жилая площадь\n",
    "* **KitchenSquare** - площадь кухни\n",
    "* **Floor** - этаж\n",
    "* **HouseFloor** - количество этажей в доме\n",
    "* **HouseYear** - год постройки дома\n",
    "* **Ecology_1, Ecology_2, Ecology_3** - экологические показатели местности\n",
    "* **Social_1, Social_2, Social_3** - социальные показатели местности\n",
    "* **Healthcare_1, Helthcare_2** - показатели местности, связанные с охраной здоровья\n",
    "* **Shops_1, Shops_2** - показатели, связанные с наличием магазинов, торговых центров\n",
    "* **Price** - цена квартиры"
   ]
  },
  {
   "cell_type": "code",
   "execution_count": 1307,
   "metadata": {},
   "outputs": [],
   "source": [
    "DataSetPath=\"data/train.csv\"\n",
    "TestDataSetPath=\"data/test.csv\"\n",
    "train_df=pd.read_csv(DataSetPath)\n",
    "test_df=pd.read_csv(TestDataSetPath)"
   ]
  },
  {
   "cell_type": "markdown",
   "metadata": {},
   "source": [
    "## Проверка одинаковых столбцов в датафреймах"
   ]
  },
  {
   "cell_type": "code",
   "execution_count": 1308,
   "metadata": {},
   "outputs": [
    {
     "data": {
      "text/plain": [
       "array([ True,  True,  True,  True,  True,  True,  True,  True,  True,\n",
       "        True,  True,  True,  True,  True,  True,  True,  True,  True,\n",
       "        True])"
      ]
     },
     "execution_count": 1308,
     "metadata": {},
     "output_type": "execute_result"
    }
   ],
   "source": [
    "np.array(train_df.columns)[:-1]==np.array(test_df.columns)"
   ]
  },
  {
   "cell_type": "markdown",
   "metadata": {},
   "source": [
    "## Объединение датасетов для синхронности преобразований "
   ]
  },
  {
   "cell_type": "code",
   "execution_count": 1309,
   "metadata": {},
   "outputs": [],
   "source": [
    "df = pd.concat([train_df, test_df], axis=0)\n",
    "df = df.reset_index(drop=True)"
   ]
  },
  {
   "cell_type": "markdown",
   "metadata": {},
   "source": [
    "## Преобразование типов данных"
   ]
  },
  {
   "cell_type": "code",
   "execution_count": 1310,
   "metadata": {},
   "outputs": [
    {
     "data": {
      "text/plain": [
       "int64      9\n",
       "float64    8\n",
       "object     3\n",
       "dtype: int64"
      ]
     },
     "execution_count": 1310,
     "metadata": {},
     "output_type": "execute_result"
    }
   ],
   "source": [
    "df.dtypes.value_counts()"
   ]
  },
  {
   "cell_type": "markdown",
   "metadata": {},
   "source": [
    "Дальнейший анализ проводим по всему датафрему (test + train)"
   ]
  },
  {
   "cell_type": "code",
   "execution_count": 1311,
   "metadata": {},
   "outputs": [],
   "source": [
    "df.Id=df.Id.astype(str)\n",
    "df.DistrictId=df.DistrictId.astype(str)\n",
    "x_train = df[df[\"Price\"].notnull()]\n",
    "x_test = df[df[\"Price\"].isnull()]"
   ]
  },
  {
   "cell_type": "markdown",
   "metadata": {},
   "source": [
    "# Обзор данных"
   ]
  },
  {
   "cell_type": "markdown",
   "metadata": {},
   "source": [
    "__Целевая переменная__"
   ]
  },
  {
   "cell_type": "code",
   "execution_count": 1312,
   "metadata": {},
   "outputs": [
    {
     "name": "stderr",
     "output_type": "stream",
     "text": [
      "C:\\Users\\ruchkinasa\\Anaconda3\\lib\\site-packages\\numpy\\lib\\histograms.py:839: RuntimeWarning: invalid value encountered in greater_equal\n",
      "  keep = (tmp_a >= first_edge)\n",
      "C:\\Users\\ruchkinasa\\Anaconda3\\lib\\site-packages\\numpy\\lib\\histograms.py:840: RuntimeWarning: invalid value encountered in less_equal\n",
      "  keep &= (tmp_a <= last_edge)\n"
     ]
    },
    {
     "data": {
      "image/png": "[encoded data removed]",
      "text/plain": [
       "<Figure size 432x288 with 1 Axes>"
      ]
     },
     "metadata": {
      "needs_background": "light"
     },
     "output_type": "display_data"
    }
   ],
   "source": [
    "plt.hist(df['Price'], bins=20)\n",
    "plt.plot([df.Price.mean()]*100, np.linspace(0,2000,100), label='mean')\n",
    "plt.plot([df.Price.median()]*100, np.linspace(0,2000,100), label='median')\n",
    "plt.ylabel('Count')\n",
    "plt.xlabel('Price')\n",
    "plt.title('Target distribution')\n",
    "plt.legend()\n",
    "plt.show()"
   ]
  },
  {
   "cell_type": "markdown",
   "metadata": {},
   "source": [
    "__Вывод: выбросов нет, показатель распределен достаточно равномерно, с небольшим скосом в сторону более дешевых квартир__"
   ]
  },
  {
   "cell_type": "markdown",
   "metadata": {},
   "source": [
    "## Количественные переменные"
   ]
  },
  {
   "cell_type": "code",
   "execution_count": 1313,
   "metadata": {},
   "outputs": [
    {
     "data": {
      "text/html": [
       "<div>\n",
       "<style scoped>\n",
       "    .dataframe tbody tr th:only-of-type {\n",
       "        vertical-align: middle;\n",
       "    }\n",
       "\n",
       "    .dataframe tbody tr th {\n",
       "        vertical-align: top;\n",
       "    }\n",
       "\n",
       "    .dataframe thead th {\n",
       "        text-align: right;\n",
       "    }\n",
       "</style>\n",
       "<table border=\"1\" class=\"dataframe\">\n",
       "  <thead>\n",
       "    <tr style=\"text-align: right;\">\n",
       "      <th></th>\n",
       "      <th>Rooms</th>\n",
       "      <th>Square</th>\n",
       "      <th>LifeSquare</th>\n",
       "      <th>KitchenSquare</th>\n",
       "      <th>Floor</th>\n",
       "      <th>HouseFloor</th>\n",
       "      <th>HouseYear</th>\n",
       "      <th>Ecology_1</th>\n",
       "      <th>Social_1</th>\n",
       "      <th>Social_2</th>\n",
       "      <th>Social_3</th>\n",
       "      <th>Healthcare_1</th>\n",
       "      <th>Helthcare_2</th>\n",
       "      <th>Shops_1</th>\n",
       "      <th>Price</th>\n",
       "    </tr>\n",
       "  </thead>\n",
       "  <tbody>\n",
       "    <tr>\n",
       "      <th>count</th>\n",
       "      <td>15000.000000</td>\n",
       "      <td>15000.000000</td>\n",
       "      <td>11846.000000</td>\n",
       "      <td>15000.000000</td>\n",
       "      <td>15000.000000</td>\n",
       "      <td>15000.000000</td>\n",
       "      <td>1.500000e+04</td>\n",
       "      <td>15000.000000</td>\n",
       "      <td>15000.000000</td>\n",
       "      <td>15000.000000</td>\n",
       "      <td>15000.000000</td>\n",
       "      <td>7825.000000</td>\n",
       "      <td>15000.000000</td>\n",
       "      <td>15000.000000</td>\n",
       "      <td>10000.000000</td>\n",
       "    </tr>\n",
       "    <tr>\n",
       "      <th>mean</th>\n",
       "      <td>1.897000</td>\n",
       "      <td>56.360350</td>\n",
       "      <td>36.851792</td>\n",
       "      <td>6.174467</td>\n",
       "      <td>8.561800</td>\n",
       "      <td>12.606600</td>\n",
       "      <td>3.321575e+03</td>\n",
       "      <td>0.119196</td>\n",
       "      <td>24.769267</td>\n",
       "      <td>5370.404933</td>\n",
       "      <td>8.113667</td>\n",
       "      <td>1144.162428</td>\n",
       "      <td>1.319467</td>\n",
       "      <td>4.235133</td>\n",
       "      <td>214138.857399</td>\n",
       "    </tr>\n",
       "    <tr>\n",
       "      <th>std</th>\n",
       "      <td>0.839229</td>\n",
       "      <td>20.423913</td>\n",
       "      <td>71.120183</td>\n",
       "      <td>24.016979</td>\n",
       "      <td>5.323113</td>\n",
       "      <td>6.780165</td>\n",
       "      <td>1.637078e+05</td>\n",
       "      <td>0.119371</td>\n",
       "      <td>17.532278</td>\n",
       "      <td>4013.364403</td>\n",
       "      <td>23.841946</td>\n",
       "      <td>1029.296278</td>\n",
       "      <td>1.489012</td>\n",
       "      <td>4.796545</td>\n",
       "      <td>92872.293865</td>\n",
       "    </tr>\n",
       "    <tr>\n",
       "      <th>min</th>\n",
       "      <td>0.000000</td>\n",
       "      <td>1.136859</td>\n",
       "      <td>0.333490</td>\n",
       "      <td>0.000000</td>\n",
       "      <td>1.000000</td>\n",
       "      <td>0.000000</td>\n",
       "      <td>1.908000e+03</td>\n",
       "      <td>0.000000</td>\n",
       "      <td>0.000000</td>\n",
       "      <td>168.000000</td>\n",
       "      <td>0.000000</td>\n",
       "      <td>0.000000</td>\n",
       "      <td>0.000000</td>\n",
       "      <td>0.000000</td>\n",
       "      <td>59174.778028</td>\n",
       "    </tr>\n",
       "    <tr>\n",
       "      <th>25%</th>\n",
       "      <td>1.000000</td>\n",
       "      <td>41.814371</td>\n",
       "      <td>22.896130</td>\n",
       "      <td>1.000000</td>\n",
       "      <td>4.000000</td>\n",
       "      <td>9.000000</td>\n",
       "      <td>1.974000e+03</td>\n",
       "      <td>0.017647</td>\n",
       "      <td>6.000000</td>\n",
       "      <td>1564.000000</td>\n",
       "      <td>0.000000</td>\n",
       "      <td>350.000000</td>\n",
       "      <td>0.000000</td>\n",
       "      <td>1.000000</td>\n",
       "      <td>153872.633942</td>\n",
       "    </tr>\n",
       "    <tr>\n",
       "      <th>50%</th>\n",
       "      <td>2.000000</td>\n",
       "      <td>52.645757</td>\n",
       "      <td>32.822810</td>\n",
       "      <td>6.000000</td>\n",
       "      <td>7.000000</td>\n",
       "      <td>12.000000</td>\n",
       "      <td>1.977000e+03</td>\n",
       "      <td>0.075424</td>\n",
       "      <td>25.000000</td>\n",
       "      <td>5285.000000</td>\n",
       "      <td>2.000000</td>\n",
       "      <td>900.000000</td>\n",
       "      <td>1.000000</td>\n",
       "      <td>3.000000</td>\n",
       "      <td>192269.644879</td>\n",
       "    </tr>\n",
       "    <tr>\n",
       "      <th>75%</th>\n",
       "      <td>2.000000</td>\n",
       "      <td>66.036608</td>\n",
       "      <td>45.144624</td>\n",
       "      <td>9.000000</td>\n",
       "      <td>12.000000</td>\n",
       "      <td>17.000000</td>\n",
       "      <td>2.001000e+03</td>\n",
       "      <td>0.195781</td>\n",
       "      <td>36.000000</td>\n",
       "      <td>7287.000000</td>\n",
       "      <td>5.000000</td>\n",
       "      <td>1548.000000</td>\n",
       "      <td>2.000000</td>\n",
       "      <td>6.000000</td>\n",
       "      <td>249135.462171</td>\n",
       "    </tr>\n",
       "    <tr>\n",
       "      <th>max</th>\n",
       "      <td>19.000000</td>\n",
       "      <td>641.065193</td>\n",
       "      <td>7480.592129</td>\n",
       "      <td>2014.000000</td>\n",
       "      <td>78.000000</td>\n",
       "      <td>117.000000</td>\n",
       "      <td>2.005201e+07</td>\n",
       "      <td>0.521867</td>\n",
       "      <td>74.000000</td>\n",
       "      <td>19083.000000</td>\n",
       "      <td>141.000000</td>\n",
       "      <td>4849.000000</td>\n",
       "      <td>6.000000</td>\n",
       "      <td>23.000000</td>\n",
       "      <td>633233.466570</td>\n",
       "    </tr>\n",
       "  </tbody>\n",
       "</table>\n",
       "</div>"
      ],
      "text/plain": [
       "              Rooms        Square    LifeSquare  KitchenSquare         Floor  \\\n",
       "count  15000.000000  15000.000000  11846.000000   15000.000000  15000.000000   \n",
       "mean       1.897000     56.360350     36.851792       6.174467      8.561800   \n",
       "std        0.839229     20.423913     71.120183      24.016979      5.323113   \n",
       "min        0.000000      1.136859      0.333490       0.000000      1.000000   \n",
       "25%        1.000000     41.814371     22.896130       1.000000      4.000000   \n",
       "50%        2.000000     52.645757     32.822810       6.000000      7.000000   \n",
       "75%        2.000000     66.036608     45.144624       9.000000     12.000000   \n",
       "max       19.000000    641.065193   7480.592129    2014.000000     78.000000   \n",
       "\n",
       "         HouseFloor     HouseYear     Ecology_1      Social_1      Social_2  \\\n",
       "count  15000.000000  1.500000e+04  15000.000000  15000.000000  15000.000000   \n",
       "mean      12.606600  3.321575e+03      0.119196     24.769267   5370.404933   \n",
       "std        6.780165  1.637078e+05      0.119371     17.532278   4013.364403   \n",
       "min        0.000000  1.908000e+03      0.000000      0.000000    168.000000   \n",
       "25%        9.000000  1.974000e+03      0.017647      6.000000   1564.000000   \n",
       "50%       12.000000  1.977000e+03      0.075424     25.000000   5285.000000   \n",
       "75%       17.000000  2.001000e+03      0.195781     36.000000   7287.000000   \n",
       "max      117.000000  2.005201e+07      0.521867     74.000000  19083.000000   \n",
       "\n",
       "           Social_3  Healthcare_1   Helthcare_2       Shops_1          Price  \n",
       "count  15000.000000   7825.000000  15000.000000  15000.000000   10000.000000  \n",
       "mean       8.113667   1144.162428      1.319467      4.235133  214138.857399  \n",
       "std       23.841946   1029.296278      1.489012      4.796545   92872.293865  \n",
       "min        0.000000      0.000000      0.000000      0.000000   59174.778028  \n",
       "25%        0.000000    350.000000      0.000000      1.000000  153872.633942  \n",
       "50%        2.000000    900.000000      1.000000      3.000000  192269.644879  \n",
       "75%        5.000000   1548.000000      2.000000      6.000000  249135.462171  \n",
       "max      141.000000   4849.000000      6.000000     23.000000  633233.466570  "
      ]
     },
     "execution_count": 1313,
     "metadata": {},
     "output_type": "execute_result"
    }
   ],
   "source": [
    "df.describe(exclude='object')"
   ]
  },
  {
   "cell_type": "markdown",
   "metadata": {},
   "source": [
    "__Вывод__\n",
    "* Есть показатели, которые требуют обработки выбросов: Rooms, Square, LifeSquare, Floor, HouseFloor, Social_3(?)\n",
    "* Есть показатели с пропущенными данными:LifeSquare, Healthcare_1"
   ]
  },
  {
   "cell_type": "markdown",
   "metadata": {},
   "source": [
    "## Категориальные переменные"
   ]
  },
  {
   "cell_type": "code",
   "execution_count": 1314,
   "metadata": {},
   "outputs": [
    {
     "data": {
      "text/html": [
       "<div>\n",
       "<style scoped>\n",
       "    .dataframe tbody tr th:only-of-type {\n",
       "        vertical-align: middle;\n",
       "    }\n",
       "\n",
       "    .dataframe tbody tr th {\n",
       "        vertical-align: top;\n",
       "    }\n",
       "\n",
       "    .dataframe thead th {\n",
       "        text-align: right;\n",
       "    }\n",
       "</style>\n",
       "<table border=\"1\" class=\"dataframe\">\n",
       "  <thead>\n",
       "    <tr style=\"text-align: right;\">\n",
       "      <th></th>\n",
       "      <th>Id</th>\n",
       "      <th>DistrictId</th>\n",
       "      <th>Ecology_2</th>\n",
       "      <th>Ecology_3</th>\n",
       "      <th>Shops_2</th>\n",
       "    </tr>\n",
       "  </thead>\n",
       "  <tbody>\n",
       "    <tr>\n",
       "      <th>count</th>\n",
       "      <td>10000</td>\n",
       "      <td>10000</td>\n",
       "      <td>10000</td>\n",
       "      <td>10000</td>\n",
       "      <td>10000</td>\n",
       "    </tr>\n",
       "    <tr>\n",
       "      <th>unique</th>\n",
       "      <td>10000</td>\n",
       "      <td>205</td>\n",
       "      <td>2</td>\n",
       "      <td>2</td>\n",
       "      <td>2</td>\n",
       "    </tr>\n",
       "    <tr>\n",
       "      <th>top</th>\n",
       "      <td>7208</td>\n",
       "      <td>27</td>\n",
       "      <td>B</td>\n",
       "      <td>B</td>\n",
       "      <td>B</td>\n",
       "    </tr>\n",
       "    <tr>\n",
       "      <th>freq</th>\n",
       "      <td>1</td>\n",
       "      <td>851</td>\n",
       "      <td>9903</td>\n",
       "      <td>9725</td>\n",
       "      <td>9175</td>\n",
       "    </tr>\n",
       "  </tbody>\n",
       "</table>\n",
       "</div>"
      ],
      "text/plain": [
       "           Id DistrictId Ecology_2 Ecology_3 Shops_2\n",
       "count   10000      10000     10000     10000   10000\n",
       "unique  10000        205         2         2       2\n",
       "top      7208         27         B         B       B\n",
       "freq        1        851      9903      9725    9175"
      ]
     },
     "execution_count": 1314,
     "metadata": {},
     "output_type": "execute_result"
    }
   ],
   "source": [
    "x_train.describe(include='object')"
   ]
  },
  {
   "cell_type": "markdown",
   "metadata": {},
   "source": [
    "__Вывод__: по показателям Ecology_2, Ecology_3 и Shop_2 все позиции в основном имеют категорию В из двух возможных.\n",
    "Пропущенных значений нет"
   ]
  },
  {
   "cell_type": "code",
   "execution_count": 1315,
   "metadata": {},
   "outputs": [
    {
     "data": {
      "text/html": [
       "<div>\n",
       "<style scoped>\n",
       "    .dataframe tbody tr th:only-of-type {\n",
       "        vertical-align: middle;\n",
       "    }\n",
       "\n",
       "    .dataframe tbody tr th {\n",
       "        vertical-align: top;\n",
       "    }\n",
       "\n",
       "    .dataframe thead th {\n",
       "        text-align: right;\n",
       "    }\n",
       "</style>\n",
       "<table border=\"1\" class=\"dataframe\">\n",
       "  <thead>\n",
       "    <tr style=\"text-align: right;\">\n",
       "      <th></th>\n",
       "      <th>Id</th>\n",
       "      <th>DistrictId</th>\n",
       "      <th>Ecology_2</th>\n",
       "      <th>Ecology_3</th>\n",
       "      <th>Shops_2</th>\n",
       "    </tr>\n",
       "  </thead>\n",
       "  <tbody>\n",
       "    <tr>\n",
       "      <th>count</th>\n",
       "      <td>5000</td>\n",
       "      <td>5000</td>\n",
       "      <td>5000</td>\n",
       "      <td>5000</td>\n",
       "      <td>5000</td>\n",
       "    </tr>\n",
       "    <tr>\n",
       "      <th>unique</th>\n",
       "      <td>5000</td>\n",
       "      <td>201</td>\n",
       "      <td>2</td>\n",
       "      <td>2</td>\n",
       "      <td>2</td>\n",
       "    </tr>\n",
       "    <tr>\n",
       "      <th>top</th>\n",
       "      <td>10077</td>\n",
       "      <td>27</td>\n",
       "      <td>B</td>\n",
       "      <td>B</td>\n",
       "      <td>B</td>\n",
       "    </tr>\n",
       "    <tr>\n",
       "      <th>freq</th>\n",
       "      <td>1</td>\n",
       "      <td>391</td>\n",
       "      <td>4952</td>\n",
       "      <td>4851</td>\n",
       "      <td>4588</td>\n",
       "    </tr>\n",
       "  </tbody>\n",
       "</table>\n",
       "</div>"
      ],
      "text/plain": [
       "           Id DistrictId Ecology_2 Ecology_3 Shops_2\n",
       "count    5000       5000      5000      5000    5000\n",
       "unique   5000        201         2         2       2\n",
       "top     10077         27         B         B       B\n",
       "freq        1        391      4952      4851    4588"
      ]
     },
     "execution_count": 1315,
     "metadata": {},
     "output_type": "execute_result"
    }
   ],
   "source": [
    "x_test.describe(include='object')"
   ]
  },
  {
   "cell_type": "markdown",
   "metadata": {},
   "source": [
    "__Вывод__: в тестовой выборке категория В также наиболее части встречается, но присутствует и вторая категория.\n",
    "Пропущенных значений нет"
   ]
  },
  {
   "cell_type": "markdown",
   "metadata": {},
   "source": [
    "## DistrictID\n",
    "Посмотрим, какие регионы есть в тестовой выборке"
   ]
  },
  {
   "cell_type": "code",
   "execution_count": 1316,
   "metadata": {
    "scrolled": true
   },
   "outputs": [
    {
     "data": {
      "image/png": "[encoded data removed]",
      "text/plain": [
       "<Figure size 432x288 with 1 Axes>"
      ]
     },
     "metadata": {
      "needs_background": "light"
     },
     "output_type": "display_data"
    }
   ],
   "source": [
    "a=x_test['DistrictId'].value_counts(normalize=True)\n",
    "plt.scatter(np.linspace(0,len(a),len(a)),a)\n",
    "plt.show()"
   ]
  },
  {
   "cell_type": "code",
   "execution_count": 1317,
   "metadata": {},
   "outputs": [
    {
     "name": "stdout",
     "output_type": "stream",
     "text": [
      "0.25120000000000003\n"
     ]
    }
   ],
   "source": [
    "print(sum(x_test['DistrictId'].value_counts(normalize=True)[0:4]))\n",
    "top_district_index=x_test['DistrictId'].value_counts(normalize=True)[0:4].index"
   ]
  },
  {
   "cell_type": "markdown",
   "metadata": {},
   "source": [
    "__Вывод__: В тестовой выборке 201 регион, но 25% всей тестовой выборки относятся к 4 регионам. Возможно стоит по ним рассмотреть индивидуальные модели.\n",
    "\n",
    "__Оценим, есть ли по данным регионам значимое количество данных:__"
   ]
  },
  {
   "cell_type": "code",
   "execution_count": 1318,
   "metadata": {},
   "outputs": [
    {
     "data": {
      "text/plain": [
       "27    851\n",
       "1     652\n",
       "23    565\n",
       "6     511\n",
       "Name: DistrictId, dtype: int64"
      ]
     },
     "execution_count": 1318,
     "metadata": {},
     "output_type": "execute_result"
    }
   ],
   "source": [
    "x_train['DistrictId'].value_counts().loc[top_district_index]"
   ]
  },
  {
   "cell_type": "markdown",
   "metadata": {},
   "source": [
    "__Вывод__: по данным 4 регионам в обучающей выборке значимое количество данных (более 500 точек по каждой)"
   ]
  },
  {
   "cell_type": "markdown",
   "metadata": {},
   "source": [
    "# Обработка выбросов"
   ]
  },
  {
   "cell_type": "markdown",
   "metadata": {},
   "source": [
    "## * Rooms"
   ]
  },
  {
   "cell_type": "code",
   "execution_count": 1319,
   "metadata": {},
   "outputs": [
    {
     "data": {
      "text/html": [
       "<div>\n",
       "<style scoped>\n",
       "    .dataframe tbody tr th:only-of-type {\n",
       "        vertical-align: middle;\n",
       "    }\n",
       "\n",
       "    .dataframe tbody tr th {\n",
       "        vertical-align: top;\n",
       "    }\n",
       "\n",
       "    .dataframe thead th {\n",
       "        text-align: right;\n",
       "    }\n",
       "</style>\n",
       "<table border=\"1\" class=\"dataframe\">\n",
       "  <thead>\n",
       "    <tr style=\"text-align: right;\">\n",
       "      <th></th>\n",
       "      <th>Id</th>\n",
       "      <th>DistrictId</th>\n",
       "      <th>Rooms</th>\n",
       "      <th>Square</th>\n",
       "      <th>LifeSquare</th>\n",
       "      <th>KitchenSquare</th>\n",
       "      <th>Floor</th>\n",
       "      <th>HouseFloor</th>\n",
       "      <th>HouseYear</th>\n",
       "      <th>Ecology_1</th>\n",
       "      <th>Ecology_2</th>\n",
       "      <th>Ecology_3</th>\n",
       "      <th>Social_1</th>\n",
       "      <th>Social_2</th>\n",
       "      <th>Social_3</th>\n",
       "      <th>Healthcare_1</th>\n",
       "      <th>Helthcare_2</th>\n",
       "      <th>Shops_1</th>\n",
       "      <th>Shops_2</th>\n",
       "      <th>Price</th>\n",
       "    </tr>\n",
       "  </thead>\n",
       "  <tbody>\n",
       "    <tr>\n",
       "      <th>377</th>\n",
       "      <td>5927</td>\n",
       "      <td>57</td>\n",
       "      <td>10.0</td>\n",
       "      <td>59.056975</td>\n",
       "      <td>36.223072</td>\n",
       "      <td>10.0</td>\n",
       "      <td>22</td>\n",
       "      <td>22.0</td>\n",
       "      <td>2002</td>\n",
       "      <td>0.090799</td>\n",
       "      <td>B</td>\n",
       "      <td>B</td>\n",
       "      <td>74</td>\n",
       "      <td>19083</td>\n",
       "      <td>2</td>\n",
       "      <td>NaN</td>\n",
       "      <td>5</td>\n",
       "      <td>15</td>\n",
       "      <td>B</td>\n",
       "      <td>317265.323792</td>\n",
       "    </tr>\n",
       "    <tr>\n",
       "      <th>1454</th>\n",
       "      <td>8491</td>\n",
       "      <td>1</td>\n",
       "      <td>19.0</td>\n",
       "      <td>42.006046</td>\n",
       "      <td>21.779288</td>\n",
       "      <td>7.0</td>\n",
       "      <td>17</td>\n",
       "      <td>17.0</td>\n",
       "      <td>2014</td>\n",
       "      <td>0.007122</td>\n",
       "      <td>B</td>\n",
       "      <td>B</td>\n",
       "      <td>1</td>\n",
       "      <td>264</td>\n",
       "      <td>0</td>\n",
       "      <td>NaN</td>\n",
       "      <td>0</td>\n",
       "      <td>1</td>\n",
       "      <td>B</td>\n",
       "      <td>78364.616704</td>\n",
       "    </tr>\n",
       "    <tr>\n",
       "      <th>2170</th>\n",
       "      <td>14003</td>\n",
       "      <td>99</td>\n",
       "      <td>6.0</td>\n",
       "      <td>59.414334</td>\n",
       "      <td>38.702244</td>\n",
       "      <td>6.0</td>\n",
       "      <td>7</td>\n",
       "      <td>9.0</td>\n",
       "      <td>1969</td>\n",
       "      <td>0.033494</td>\n",
       "      <td>B</td>\n",
       "      <td>B</td>\n",
       "      <td>66</td>\n",
       "      <td>10573</td>\n",
       "      <td>1</td>\n",
       "      <td>1322.0</td>\n",
       "      <td>3</td>\n",
       "      <td>8</td>\n",
       "      <td>B</td>\n",
       "      <td>229661.964416</td>\n",
       "    </tr>\n",
       "    <tr>\n",
       "      <th>8849</th>\n",
       "      <td>14865</td>\n",
       "      <td>9</td>\n",
       "      <td>10.0</td>\n",
       "      <td>60.871266</td>\n",
       "      <td>38.420681</td>\n",
       "      <td>10.0</td>\n",
       "      <td>3</td>\n",
       "      <td>2.0</td>\n",
       "      <td>1994</td>\n",
       "      <td>0.161532</td>\n",
       "      <td>B</td>\n",
       "      <td>B</td>\n",
       "      <td>25</td>\n",
       "      <td>5648</td>\n",
       "      <td>1</td>\n",
       "      <td>30.0</td>\n",
       "      <td>2</td>\n",
       "      <td>4</td>\n",
       "      <td>B</td>\n",
       "      <td>172329.270863</td>\n",
       "    </tr>\n",
       "    <tr>\n",
       "      <th>12071</th>\n",
       "      <td>10793</td>\n",
       "      <td>23</td>\n",
       "      <td>6.0</td>\n",
       "      <td>110.750226</td>\n",
       "      <td>NaN</td>\n",
       "      <td>0.0</td>\n",
       "      <td>2</td>\n",
       "      <td>2.0</td>\n",
       "      <td>2015</td>\n",
       "      <td>0.014073</td>\n",
       "      <td>B</td>\n",
       "      <td>B</td>\n",
       "      <td>2</td>\n",
       "      <td>475</td>\n",
       "      <td>0</td>\n",
       "      <td>NaN</td>\n",
       "      <td>0</td>\n",
       "      <td>0</td>\n",
       "      <td>B</td>\n",
       "      <td>NaN</td>\n",
       "    </tr>\n",
       "    <tr>\n",
       "      <th>13217</th>\n",
       "      <td>4058</td>\n",
       "      <td>27</td>\n",
       "      <td>6.0</td>\n",
       "      <td>223.453689</td>\n",
       "      <td>104.113552</td>\n",
       "      <td>16.0</td>\n",
       "      <td>2</td>\n",
       "      <td>2.0</td>\n",
       "      <td>2017</td>\n",
       "      <td>0.041116</td>\n",
       "      <td>B</td>\n",
       "      <td>B</td>\n",
       "      <td>53</td>\n",
       "      <td>14892</td>\n",
       "      <td>4</td>\n",
       "      <td>NaN</td>\n",
       "      <td>1</td>\n",
       "      <td>4</td>\n",
       "      <td>B</td>\n",
       "      <td>NaN</td>\n",
       "    </tr>\n",
       "    <tr>\n",
       "      <th>13398</th>\n",
       "      <td>1435</td>\n",
       "      <td>111</td>\n",
       "      <td>17.0</td>\n",
       "      <td>52.866107</td>\n",
       "      <td>32.528342</td>\n",
       "      <td>8.0</td>\n",
       "      <td>15</td>\n",
       "      <td>17.0</td>\n",
       "      <td>1987</td>\n",
       "      <td>0.093443</td>\n",
       "      <td>B</td>\n",
       "      <td>B</td>\n",
       "      <td>23</td>\n",
       "      <td>4635</td>\n",
       "      <td>5</td>\n",
       "      <td>3300.0</td>\n",
       "      <td>2</td>\n",
       "      <td>4</td>\n",
       "      <td>B</td>\n",
       "      <td>NaN</td>\n",
       "    </tr>\n",
       "  </tbody>\n",
       "</table>\n",
       "</div>"
      ],
      "text/plain": [
       "          Id DistrictId  Rooms      Square  LifeSquare  KitchenSquare  Floor  \\\n",
       "377     5927         57   10.0   59.056975   36.223072           10.0     22   \n",
       "1454    8491          1   19.0   42.006046   21.779288            7.0     17   \n",
       "2170   14003         99    6.0   59.414334   38.702244            6.0      7   \n",
       "8849   14865          9   10.0   60.871266   38.420681           10.0      3   \n",
       "12071  10793         23    6.0  110.750226         NaN            0.0      2   \n",
       "13217   4058         27    6.0  223.453689  104.113552           16.0      2   \n",
       "13398   1435        111   17.0   52.866107   32.528342            8.0     15   \n",
       "\n",
       "       HouseFloor  HouseYear  Ecology_1 Ecology_2 Ecology_3  Social_1  \\\n",
       "377          22.0       2002   0.090799         B         B        74   \n",
       "1454         17.0       2014   0.007122         B         B         1   \n",
       "2170          9.0       1969   0.033494         B         B        66   \n",
       "8849          2.0       1994   0.161532         B         B        25   \n",
       "12071         2.0       2015   0.014073         B         B         2   \n",
       "13217         2.0       2017   0.041116         B         B        53   \n",
       "13398        17.0       1987   0.093443         B         B        23   \n",
       "\n",
       "       Social_2  Social_3  Healthcare_1  Helthcare_2  Shops_1 Shops_2  \\\n",
       "377       19083         2           NaN            5       15       B   \n",
       "1454        264         0           NaN            0        1       B   \n",
       "2170      10573         1        1322.0            3        8       B   \n",
       "8849       5648         1          30.0            2        4       B   \n",
       "12071       475         0           NaN            0        0       B   \n",
       "13217     14892         4           NaN            1        4       B   \n",
       "13398      4635         5        3300.0            2        4       B   \n",
       "\n",
       "               Price  \n",
       "377    317265.323792  \n",
       "1454    78364.616704  \n",
       "2170   229661.964416  \n",
       "8849   172329.270863  \n",
       "12071            NaN  \n",
       "13217            NaN  \n",
       "13398            NaN  "
      ]
     },
     "execution_count": 1319,
     "metadata": {},
     "output_type": "execute_result"
    }
   ],
   "source": [
    "df[df.Rooms>=6]"
   ]
  },
  {
   "cell_type": "markdown",
   "metadata": {},
   "source": [
    "__Вывод__: Если количество комнат 6 и более это может быть ошибкой, а может и нет. Предлагается оценить среднее соотношение прощади квартиры и количества комнат. На основе этого соотношения определить количество комнат для некорректных данных"
   ]
  },
  {
   "cell_type": "code",
   "execution_count": 1320,
   "metadata": {},
   "outputs": [],
   "source": [
    "room_square=(df[df.Rooms<=6].Square/df[df.Rooms<=6].Rooms).median()"
   ]
  },
  {
   "cell_type": "code",
   "execution_count": 1321,
   "metadata": {},
   "outputs": [],
   "source": [
    "df.loc[(df.Rooms>=6) & (df.Square/df.Rooms<10),'Rooms']=\\\n",
    "        round(df.loc[(df.Rooms>=6) & (df.Square/df.Rooms<10),'Square']/room_square,0)"
   ]
  },
  {
   "cell_type": "code",
   "execution_count": 1322,
   "metadata": {},
   "outputs": [
    {
     "data": {
      "text/html": [
       "<div>\n",
       "<style scoped>\n",
       "    .dataframe tbody tr th:only-of-type {\n",
       "        vertical-align: middle;\n",
       "    }\n",
       "\n",
       "    .dataframe tbody tr th {\n",
       "        vertical-align: top;\n",
       "    }\n",
       "\n",
       "    .dataframe thead th {\n",
       "        text-align: right;\n",
       "    }\n",
       "</style>\n",
       "<table border=\"1\" class=\"dataframe\">\n",
       "  <thead>\n",
       "    <tr style=\"text-align: right;\">\n",
       "      <th></th>\n",
       "      <th>Id</th>\n",
       "      <th>DistrictId</th>\n",
       "      <th>Rooms</th>\n",
       "      <th>Square</th>\n",
       "      <th>LifeSquare</th>\n",
       "      <th>KitchenSquare</th>\n",
       "      <th>Floor</th>\n",
       "      <th>HouseFloor</th>\n",
       "      <th>HouseYear</th>\n",
       "      <th>Ecology_1</th>\n",
       "      <th>Ecology_2</th>\n",
       "      <th>Ecology_3</th>\n",
       "      <th>Social_1</th>\n",
       "      <th>Social_2</th>\n",
       "      <th>Social_3</th>\n",
       "      <th>Healthcare_1</th>\n",
       "      <th>Helthcare_2</th>\n",
       "      <th>Shops_1</th>\n",
       "      <th>Shops_2</th>\n",
       "      <th>Price</th>\n",
       "    </tr>\n",
       "  </thead>\n",
       "  <tbody>\n",
       "    <tr>\n",
       "      <th>12071</th>\n",
       "      <td>10793</td>\n",
       "      <td>23</td>\n",
       "      <td>6.0</td>\n",
       "      <td>110.750226</td>\n",
       "      <td>NaN</td>\n",
       "      <td>0.0</td>\n",
       "      <td>2</td>\n",
       "      <td>2.0</td>\n",
       "      <td>2015</td>\n",
       "      <td>0.014073</td>\n",
       "      <td>B</td>\n",
       "      <td>B</td>\n",
       "      <td>2</td>\n",
       "      <td>475</td>\n",
       "      <td>0</td>\n",
       "      <td>NaN</td>\n",
       "      <td>0</td>\n",
       "      <td>0</td>\n",
       "      <td>B</td>\n",
       "      <td>NaN</td>\n",
       "    </tr>\n",
       "    <tr>\n",
       "      <th>13217</th>\n",
       "      <td>4058</td>\n",
       "      <td>27</td>\n",
       "      <td>6.0</td>\n",
       "      <td>223.453689</td>\n",
       "      <td>104.113552</td>\n",
       "      <td>16.0</td>\n",
       "      <td>2</td>\n",
       "      <td>2.0</td>\n",
       "      <td>2017</td>\n",
       "      <td>0.041116</td>\n",
       "      <td>B</td>\n",
       "      <td>B</td>\n",
       "      <td>53</td>\n",
       "      <td>14892</td>\n",
       "      <td>4</td>\n",
       "      <td>NaN</td>\n",
       "      <td>1</td>\n",
       "      <td>4</td>\n",
       "      <td>B</td>\n",
       "      <td>NaN</td>\n",
       "    </tr>\n",
       "  </tbody>\n",
       "</table>\n",
       "</div>"
      ],
      "text/plain": [
       "          Id DistrictId  Rooms      Square  LifeSquare  KitchenSquare  Floor  \\\n",
       "12071  10793         23    6.0  110.750226         NaN            0.0      2   \n",
       "13217   4058         27    6.0  223.453689  104.113552           16.0      2   \n",
       "\n",
       "       HouseFloor  HouseYear  Ecology_1 Ecology_2 Ecology_3  Social_1  \\\n",
       "12071         2.0       2015   0.014073         B         B         2   \n",
       "13217         2.0       2017   0.041116         B         B        53   \n",
       "\n",
       "       Social_2  Social_3  Healthcare_1  Helthcare_2  Shops_1 Shops_2  Price  \n",
       "12071       475         0           NaN            0        0       B    NaN  \n",
       "13217     14892         4           NaN            1        4       B    NaN  "
      ]
     },
     "execution_count": 1322,
     "metadata": {},
     "output_type": "execute_result"
    }
   ],
   "source": [
    "df[df.Rooms>=6]"
   ]
  },
  {
   "cell_type": "markdown",
   "metadata": {},
   "source": [
    "__Вывод__: видно, что шестикомнатные квартиры (Room=6) остались только для квартир с большой площадью"
   ]
  },
  {
   "cell_type": "markdown",
   "metadata": {},
   "source": [
    "## *HouseYear"
   ]
  },
  {
   "cell_type": "code",
   "execution_count": 1323,
   "metadata": {},
   "outputs": [
    {
     "data": {
      "text/plain": [
       "(1907.888, 1913.6]       8\n",
       "(1913.6, 1919.2]        18\n",
       "(1919.2, 1924.8]         1\n",
       "(1924.8, 1930.4]        23\n",
       "(1930.4, 1936.0]        38\n",
       "(1936.0, 1941.6]        31\n",
       "(1941.6, 1947.2]         6\n",
       "(1947.2, 1952.8]        29\n",
       "(1952.8, 1958.4]       205\n",
       "(1958.4, 1964.0]      1080\n",
       "(1964.0, 1969.6]      1219\n",
       "(1969.6, 1975.2]      1587\n",
       "(1975.2, 1980.8]      4716\n",
       "(1980.8, 1986.4]       822\n",
       "(1986.4, 1992.0]       645\n",
       "(1992.0, 1997.6]       488\n",
       "(1997.6, 2003.2]       654\n",
       "(2003.2, 2008.8]       689\n",
       "(2008.8, 2014.4]       974\n",
       "(2014.4, 2020.0]      1767\n",
       "Name: HouseYear, dtype: int64"
      ]
     },
     "execution_count": 1323,
     "metadata": {},
     "output_type": "execute_result"
    }
   ],
   "source": [
    "df.loc[df['HouseYear']>2030,'HouseYear']=df.HouseYear.median()\n",
    "pd.cut(df['HouseYear'],bins=20).value_counts().sort_index()"
   ]
  },
  {
   "cell_type": "markdown",
   "metadata": {},
   "source": [
    "## *KitchenSquare"
   ]
  },
  {
   "cell_type": "code",
   "execution_count": 1324,
   "metadata": {
    "scrolled": true
   },
   "outputs": [
    {
     "data": {
      "text/plain": [
       "(-2.014, 134.267]       14997\n",
       "(134.267, 268.533]          0\n",
       "(268.533, 402.8]            0\n",
       "(402.8, 537.067]            0\n",
       "(537.067, 671.333]          1\n",
       "(671.333, 805.6]            0\n",
       "(805.6, 939.867]            0\n",
       "(939.867, 1074.133]         0\n",
       "(1074.133, 1208.4]          0\n",
       "(1208.4, 1342.667]          0\n",
       "(1342.667, 1476.933]        0\n",
       "(1476.933, 1611.2]          0\n",
       "(1611.2, 1745.467]          0\n",
       "(1745.467, 1879.733]        0\n",
       "(1879.733, 2014.0]          2\n",
       "Name: KitchenSquare, dtype: int64"
      ]
     },
     "execution_count": 1324,
     "metadata": {},
     "output_type": "execute_result"
    }
   ],
   "source": [
    "pd.cut(df.KitchenSquare,bins=15).value_counts().sort_index()"
   ]
  },
  {
   "cell_type": "markdown",
   "metadata": {},
   "source": [
    "Считаем кухни более 30 кв.м. аномальными выбросами. Заменим площадь кухни для таких случаев медианным значением."
   ]
  },
  {
   "cell_type": "code",
   "execution_count": 1325,
   "metadata": {},
   "outputs": [],
   "source": [
    "df.loc[df.KitchenSquare>30,'KitchenSquare']=df.KitchenSquare.median()"
   ]
  },
  {
   "cell_type": "code",
   "execution_count": 1326,
   "metadata": {},
   "outputs": [
    {
     "data": {
      "text/plain": [
       "(-0.03, 2.0]    4691\n",
       "(2.0, 4.0]        93\n",
       "(4.0, 6.0]      3466\n",
       "(6.0, 8.0]      2818\n",
       "(8.0, 10.0]     2893\n",
       "(10.0, 12.0]     721\n",
       "(12.0, 14.0]     171\n",
       "(14.0, 16.0]      77\n",
       "(16.0, 18.0]      26\n",
       "(18.0, 20.0]      29\n",
       "(20.0, 22.0]       5\n",
       "(22.0, 24.0]       2\n",
       "(24.0, 26.0]       3\n",
       "(26.0, 28.0]       1\n",
       "(28.0, 30.0]       4\n",
       "Name: KitchenSquare, dtype: int64"
      ]
     },
     "execution_count": 1326,
     "metadata": {},
     "output_type": "execute_result"
    }
   ],
   "source": [
    "pd.cut(df.KitchenSquare,bins=15).value_counts().sort_index()"
   ]
  },
  {
   "cell_type": "markdown",
   "metadata": {},
   "source": [
    "В выборке большое число кухонь с явно некорректной площадью (менее 3 метров). Наидем показатель, на основании которого можно попытатьcя восстановить размер кухни для данных квартир:"
   ]
  },
  {
   "cell_type": "code",
   "execution_count": 1327,
   "metadata": {
    "scrolled": true
   },
   "outputs": [
    {
     "data": {
      "text/plain": [
       "Rooms            0.119387\n",
       "Square           0.483997\n",
       "LifeSquare       0.291646\n",
       "KitchenSquare    1.000000\n",
       "Floor            0.311484\n",
       "HouseFloor       0.531473\n",
       "HouseYear        0.567458\n",
       "Ecology_1       -0.073060\n",
       "Social_1        -0.116163\n",
       "Social_2        -0.047023\n",
       "Social_3        -0.041406\n",
       "Healthcare_1    -0.100631\n",
       "Helthcare_2     -0.102604\n",
       "Shops_1         -0.031654\n",
       "Price            0.287122\n",
       "Name: KitchenSquare, dtype: float64"
      ]
     },
     "execution_count": 1327,
     "metadata": {},
     "output_type": "execute_result"
    }
   ],
   "source": [
    "mask=(df.KitchenSquare>3)\n",
    "df.loc[df.KitchenSquare>3].corr().KitchenSquare"
   ]
  },
  {
   "cell_type": "markdown",
   "metadata": {},
   "source": [
    "Попытаемся восстановить площадь кухни в зависимости от года постройки дома. Для усреднения всплесков агругируем данные по пятилеткам"
   ]
  },
  {
   "cell_type": "code",
   "execution_count": 1328,
   "metadata": {},
   "outputs": [
    {
     "data": {
      "image/png": "[encoded data removed]",
      "text/plain": [
       "<Figure size 432x288 with 1 Axes>"
      ]
     },
     "metadata": {
      "needs_background": "light"
     },
     "output_type": "display_data"
    }
   ],
   "source": [
    "kitchen_estimate=df[mask].groupby(round(df.HouseYear/5,0)*5).KitchenSquare.median()\n",
    "plt.plot(kitchen_estimate)\n",
    "plt.show()"
   ]
  },
  {
   "cell_type": "markdown",
   "metadata": {},
   "source": [
    "Перенесем полученные оценки на точки с некорректными данными по площадам кухни:"
   ]
  },
  {
   "cell_type": "code",
   "execution_count": 1329,
   "metadata": {},
   "outputs": [],
   "source": [
    "df=pd.merge(df, kitchen_estimate, how='inner', left_on=round(df.HouseYear/5,0)*5, right_index=True)"
   ]
  },
  {
   "cell_type": "code",
   "execution_count": 1330,
   "metadata": {},
   "outputs": [],
   "source": [
    "df.loc[df.KitchenSquare_x<=3,'KitchenSquare_x']=df.KitchenSquare_y"
   ]
  },
  {
   "cell_type": "code",
   "execution_count": 1331,
   "metadata": {},
   "outputs": [],
   "source": [
    "df=df.rename(columns={\"KitchenSquare_x\":\"KitchenSquare\"})"
   ]
  },
  {
   "cell_type": "code",
   "execution_count": 1332,
   "metadata": {},
   "outputs": [],
   "source": [
    "df=df.drop(columns=['key_0','KitchenSquare_y'])"
   ]
  },
  {
   "cell_type": "markdown",
   "metadata": {},
   "source": [
    "## * Sqare"
   ]
  },
  {
   "cell_type": "markdown",
   "metadata": {},
   "source": [
    "__Выявляем квартиры с завышенной площадью__"
   ]
  },
  {
   "cell_type": "code",
   "execution_count": 1333,
   "metadata": {},
   "outputs": [
    {
     "data": {
      "text/plain": [
       "Text(0, 0.5, 'Square')"
      ]
     },
     "execution_count": 1333,
     "metadata": {},
     "output_type": "execute_result"
    },
    {
     "data": {
      "image/png": "[encoded data removed]",
      "text/plain": [
       "<Figure size 432x288 with 1 Axes>"
      ]
     },
     "metadata": {
      "needs_background": "light"
     },
     "output_type": "display_data"
    }
   ],
   "source": [
    "q = [np.percentile(train_df[\"Square\"], q=x) for x in np.arange(1, 100, 0.1)]\n",
    "plt.plot(np.arange(1, 100, 0.1), q, linewidth=3)\n",
    "plt.xlabel(\"quantile of Square\", size=14)\n",
    "plt.ylabel(\"Square\", size=14)"
   ]
  },
  {
   "cell_type": "markdown",
   "metadata": {},
   "source": [
    "__Вывод:__ видно, что квартиры с площадью более 150 метров имеет смысл проанализировать отдельно.\n",
    "\n",
    "Просмотрим данные квартиры более подробно"
   ]
  },
  {
   "cell_type": "code",
   "execution_count": 1334,
   "metadata": {},
   "outputs": [
    {
     "data": {
      "text/plain": [
       "1812     190949.293998\n",
       "2603     207007.956663\n",
       "3260     217874.997452\n",
       "4047     228572.520347\n",
       "4262     187717.242538\n",
       "6201     531049.721966\n",
       "7084     194582.912756\n",
       "8131     211180.794219\n",
       "8646     211325.577641\n",
       "8913     207407.352593\n",
       "14384              NaN\n",
       "1981     302211.260887\n",
       "1982     455264.882666\n",
       "3368     367353.574566\n",
       "6451     559886.965348\n",
       "7201     423443.464367\n",
       "8511     345665.209100\n",
       "13909              NaN\n",
       "1641     232766.187698\n",
       "4690      90470.430830\n",
       "5087     340273.238253\n",
       "9910     528560.506016\n",
       "11264              NaN\n",
       "11499              NaN\n",
       "12039              NaN\n",
       "12557              NaN\n",
       "13217              NaN\n",
       "4487     622888.825328\n",
       "3651     200800.673767\n",
       "6977     133529.681562\n",
       "652      338644.075979\n",
       "5444     502523.573863\n",
       "2656     284884.959104\n",
       "13253              NaN\n",
       "Name: Price, dtype: float64"
      ]
     },
     "execution_count": 1334,
     "metadata": {},
     "output_type": "execute_result"
    }
   ],
   "source": [
    "df[df[\"Square\"]>150].Price"
   ]
  },
  {
   "cell_type": "markdown",
   "metadata": {},
   "source": [
    "__Вывод__:\n",
    "*  Есть 30 квартир (из них 8 в тестовом наборе) с  площадью более 150 метров. \n",
    "*  Для анализа их логичности посчитаем цену за квадратный метр и сравним с ценой за квадратный метр в данном районе"
   ]
  },
  {
   "cell_type": "markdown",
   "metadata": {},
   "source": [
    "Добавляем показатели:\n",
    "* __Price_for_metr__ - цена за квадратный метр данной квартиры\n",
    "* __Price_for_metr_District__ - средняя цена за квадратный метр в данном регионе"
   ]
  },
  {
   "cell_type": "code",
   "execution_count": 1335,
   "metadata": {},
   "outputs": [],
   "source": [
    "df['Price_for_metr']=df.Price/df.Square\n",
    "price_district=df[(df[\"LifeSquare\"]<150) & (df['Price'].notnull())].groupby(['DistrictId'])['Price_for_metr'].mean()\n",
    "df['Price_for_metr_District']=df['DistrictId'].map(price_district.to_dict())"
   ]
  },
  {
   "cell_type": "markdown",
   "metadata": {},
   "source": [
    "Добавим коэффициент соотношения цены за квадратный метр в данной квартире и в данном районе"
   ]
  },
  {
   "cell_type": "code",
   "execution_count": 1336,
   "metadata": {},
   "outputs": [],
   "source": [
    "df['k']=df.Price_for_metr/df.Price_for_metr_District"
   ]
  },
  {
   "cell_type": "markdown",
   "metadata": {},
   "source": [
    "Оценим, какое отклонение цены за квадратный метр от средней можно считать значимым:"
   ]
  },
  {
   "cell_type": "code",
   "execution_count": 1337,
   "metadata": {},
   "outputs": [
    {
     "data": {
      "text/plain": [
       "0.29301414764513367"
      ]
     },
     "execution_count": 1337,
     "metadata": {},
     "output_type": "execute_result"
    }
   ],
   "source": [
    "df.k.mean()-df.k.std()"
   ]
  },
  {
   "cell_type": "markdown",
   "metadata": {},
   "source": [
    "Заменим для квартир с заниженной ценой за квадратный метр площадь квартиры на рассчетную:"
   ]
  },
  {
   "cell_type": "code",
   "execution_count": 1338,
   "metadata": {},
   "outputs": [],
   "source": [
    "mask=(df[\"Square\"]>150) & (df['k']<0.29) & (df['Rooms']<5)\n",
    "df.loc[mask,['Square']]=df.Price/df.Price_for_metr_District"
   ]
  },
  {
   "cell_type": "markdown",
   "metadata": {},
   "source": [
    "__Выявляем квартиры с заниженной площадью (при ошибке такие квартиры должны иметь завышенную цену за квадратный метр)__"
   ]
  },
  {
   "cell_type": "code",
   "execution_count": 1339,
   "metadata": {
    "scrolled": true
   },
   "outputs": [
    {
     "data": {
      "image/png": "[encoded data removed]",
      "text/plain": [
       "<Figure size 432x288 with 1 Axes>"
      ]
     },
     "metadata": {
      "needs_background": "light"
     },
     "output_type": "display_data"
    }
   ],
   "source": [
    "plt.scatter(df.Square, df.Price_for_metr)\n",
    "plt.xlabel('Square')\n",
    "plt.ylabel('Price_for_metr')\n",
    "plt.show()"
   ]
  },
  {
   "cell_type": "markdown",
   "metadata": {},
   "source": [
    "__Вывод__: выделяется явный блок квартир с заниженной площадью, причем для них цена за квадратный метр сильно завышена.\n",
    "\n",
    "Вариант 1: это особый тип недвижимости. Тогда имеет смысл рассмотреть их отдельно.\n",
    "\n",
    "Вариант 2: это ошибка в данных. Рассмотрим гипотезу - ошибка на порядок. Восстановим данные для таких квартир"
   ]
  },
  {
   "cell_type": "code",
   "execution_count": 1340,
   "metadata": {},
   "outputs": [
    {
     "data": {
      "image/png": "[encoded data removed]",
      "text/plain": [
       "<Figure size 432x288 with 1 Axes>"
      ]
     },
     "metadata": {
      "needs_background": "light"
     },
     "output_type": "display_data"
    }
   ],
   "source": [
    "df.loc[df[\"Square\"]<6, \"Square\"]=df[\"Square\"]*10\n",
    "plt.scatter(df.Square, df.Price/df.Square)\n",
    "plt.xlabel('Square')\n",
    "plt.ylabel('Price_for_metr')\n",
    "plt.show()"
   ]
  },
  {
   "cell_type": "markdown",
   "metadata": {},
   "source": [
    "__Вывод__: от заниженных площадей мы избавились, но возможно имеет смысл вернуться к рассмотрению выбросов по показателю цены за квадратный метр"
   ]
  },
  {
   "cell_type": "markdown",
   "metadata": {},
   "source": [
    "__Сравнение 'Square' и 'LifeSquare'__"
   ]
  },
  {
   "cell_type": "markdown",
   "metadata": {},
   "source": [
    "При превышении жилой площади над общей площадью квартирызаменим площадь на максимальную: "
   ]
  },
  {
   "cell_type": "code",
   "execution_count": 1341,
   "metadata": {},
   "outputs": [],
   "source": [
    "df.loc[df.Square<df.LifeSquare, 'Square']=df.LifeSquare"
   ]
  },
  {
   "cell_type": "markdown",
   "metadata": {},
   "source": [
    "## * LifeSquare"
   ]
  },
  {
   "cell_type": "markdown",
   "metadata": {},
   "source": [
    "Рассмотрим квартиры с завышенной жилой площадью"
   ]
  },
  {
   "cell_type": "code",
   "execution_count": 1342,
   "metadata": {},
   "outputs": [
    {
     "data": {
      "text/html": [
       "<div>\n",
       "<style scoped>\n",
       "    .dataframe tbody tr th:only-of-type {\n",
       "        vertical-align: middle;\n",
       "    }\n",
       "\n",
       "    .dataframe tbody tr th {\n",
       "        vertical-align: top;\n",
       "    }\n",
       "\n",
       "    .dataframe thead th {\n",
       "        text-align: right;\n",
       "    }\n",
       "</style>\n",
       "<table border=\"1\" class=\"dataframe\">\n",
       "  <thead>\n",
       "    <tr style=\"text-align: right;\">\n",
       "      <th></th>\n",
       "      <th>Id</th>\n",
       "      <th>DistrictId</th>\n",
       "      <th>Rooms</th>\n",
       "      <th>Square</th>\n",
       "      <th>LifeSquare</th>\n",
       "      <th>KitchenSquare</th>\n",
       "      <th>Floor</th>\n",
       "      <th>HouseFloor</th>\n",
       "      <th>HouseYear</th>\n",
       "      <th>Ecology_1</th>\n",
       "      <th>...</th>\n",
       "      <th>Social_2</th>\n",
       "      <th>Social_3</th>\n",
       "      <th>Healthcare_1</th>\n",
       "      <th>Helthcare_2</th>\n",
       "      <th>Shops_1</th>\n",
       "      <th>Shops_2</th>\n",
       "      <th>Price</th>\n",
       "      <th>Price_for_metr</th>\n",
       "      <th>Price_for_metr_District</th>\n",
       "      <th>k</th>\n",
       "    </tr>\n",
       "  </thead>\n",
       "  <tbody>\n",
       "    <tr>\n",
       "      <th>590</th>\n",
       "      <td>14990</td>\n",
       "      <td>23</td>\n",
       "      <td>2.0</td>\n",
       "      <td>263.542020</td>\n",
       "      <td>263.542020</td>\n",
       "      <td>5.0</td>\n",
       "      <td>6</td>\n",
       "      <td>5.0</td>\n",
       "      <td>1972.0</td>\n",
       "      <td>0.075779</td>\n",
       "      <td>...</td>\n",
       "      <td>1437</td>\n",
       "      <td>3</td>\n",
       "      <td>NaN</td>\n",
       "      <td>0</td>\n",
       "      <td>2</td>\n",
       "      <td>B</td>\n",
       "      <td>141780.231857</td>\n",
       "      <td>2926.328235</td>\n",
       "      <td>2177.029497</td>\n",
       "      <td>1.344184</td>\n",
       "    </tr>\n",
       "    <tr>\n",
       "      <th>10410</th>\n",
       "      <td>11533</td>\n",
       "      <td>94</td>\n",
       "      <td>2.0</td>\n",
       "      <td>303.071094</td>\n",
       "      <td>303.071094</td>\n",
       "      <td>6.0</td>\n",
       "      <td>5</td>\n",
       "      <td>12.0</td>\n",
       "      <td>1974.0</td>\n",
       "      <td>0.521867</td>\n",
       "      <td>...</td>\n",
       "      <td>6149</td>\n",
       "      <td>0</td>\n",
       "      <td>NaN</td>\n",
       "      <td>0</td>\n",
       "      <td>0</td>\n",
       "      <td>B</td>\n",
       "      <td>NaN</td>\n",
       "      <td>NaN</td>\n",
       "      <td>4168.659674</td>\n",
       "      <td>NaN</td>\n",
       "    </tr>\n",
       "    <tr>\n",
       "      <th>1981</th>\n",
       "      <td>7917</td>\n",
       "      <td>27</td>\n",
       "      <td>0.0</td>\n",
       "      <td>212.932361</td>\n",
       "      <td>211.231125</td>\n",
       "      <td>10.0</td>\n",
       "      <td>2</td>\n",
       "      <td>3.0</td>\n",
       "      <td>2008.0</td>\n",
       "      <td>0.211401</td>\n",
       "      <td>...</td>\n",
       "      <td>1892</td>\n",
       "      <td>0</td>\n",
       "      <td>NaN</td>\n",
       "      <td>0</td>\n",
       "      <td>1</td>\n",
       "      <td>B</td>\n",
       "      <td>302211.260887</td>\n",
       "      <td>1419.282909</td>\n",
       "      <td>3040.333818</td>\n",
       "      <td>0.466818</td>\n",
       "    </tr>\n",
       "    <tr>\n",
       "      <th>1982</th>\n",
       "      <td>5548</td>\n",
       "      <td>86</td>\n",
       "      <td>5.0</td>\n",
       "      <td>275.645284</td>\n",
       "      <td>233.949309</td>\n",
       "      <td>26.0</td>\n",
       "      <td>12</td>\n",
       "      <td>37.0</td>\n",
       "      <td>2011.0</td>\n",
       "      <td>0.161976</td>\n",
       "      <td>...</td>\n",
       "      <td>7010</td>\n",
       "      <td>5</td>\n",
       "      <td>4508.0</td>\n",
       "      <td>3</td>\n",
       "      <td>7</td>\n",
       "      <td>B</td>\n",
       "      <td>455264.882666</td>\n",
       "      <td>1651.633128</td>\n",
       "      <td>4830.045482</td>\n",
       "      <td>0.341950</td>\n",
       "    </tr>\n",
       "    <tr>\n",
       "      <th>4328</th>\n",
       "      <td>16550</td>\n",
       "      <td>27</td>\n",
       "      <td>3.0</td>\n",
       "      <td>7480.592129</td>\n",
       "      <td>7480.592129</td>\n",
       "      <td>10.0</td>\n",
       "      <td>9</td>\n",
       "      <td>17.0</td>\n",
       "      <td>2016.0</td>\n",
       "      <td>0.017647</td>\n",
       "      <td>...</td>\n",
       "      <td>469</td>\n",
       "      <td>0</td>\n",
       "      <td>NaN</td>\n",
       "      <td>0</td>\n",
       "      <td>0</td>\n",
       "      <td>B</td>\n",
       "      <td>217357.492366</td>\n",
       "      <td>2660.616239</td>\n",
       "      <td>3040.333818</td>\n",
       "      <td>0.875107</td>\n",
       "    </tr>\n",
       "    <tr>\n",
       "      <th>4690</th>\n",
       "      <td>2307</td>\n",
       "      <td>102</td>\n",
       "      <td>1.0</td>\n",
       "      <td>410.639749</td>\n",
       "      <td>410.639749</td>\n",
       "      <td>10.0</td>\n",
       "      <td>4</td>\n",
       "      <td>4.0</td>\n",
       "      <td>2016.0</td>\n",
       "      <td>0.238617</td>\n",
       "      <td>...</td>\n",
       "      <td>3889</td>\n",
       "      <td>6</td>\n",
       "      <td>705.0</td>\n",
       "      <td>3</td>\n",
       "      <td>6</td>\n",
       "      <td>B</td>\n",
       "      <td>90470.430830</td>\n",
       "      <td>220.969386</td>\n",
       "      <td>3363.968996</td>\n",
       "      <td>0.065687</td>\n",
       "    </tr>\n",
       "    <tr>\n",
       "      <th>9910</th>\n",
       "      <td>16568</td>\n",
       "      <td>27</td>\n",
       "      <td>4.0</td>\n",
       "      <td>201.627361</td>\n",
       "      <td>201.627361</td>\n",
       "      <td>25.0</td>\n",
       "      <td>1</td>\n",
       "      <td>2.0</td>\n",
       "      <td>2013.0</td>\n",
       "      <td>0.041116</td>\n",
       "      <td>...</td>\n",
       "      <td>14892</td>\n",
       "      <td>4</td>\n",
       "      <td>NaN</td>\n",
       "      <td>1</td>\n",
       "      <td>4</td>\n",
       "      <td>B</td>\n",
       "      <td>528560.506016</td>\n",
       "      <td>2638.389304</td>\n",
       "      <td>3040.333818</td>\n",
       "      <td>0.867796</td>\n",
       "    </tr>\n",
       "    <tr>\n",
       "      <th>8437</th>\n",
       "      <td>15886</td>\n",
       "      <td>85</td>\n",
       "      <td>3.0</td>\n",
       "      <td>461.463614</td>\n",
       "      <td>461.463614</td>\n",
       "      <td>10.0</td>\n",
       "      <td>12</td>\n",
       "      <td>16.0</td>\n",
       "      <td>1998.0</td>\n",
       "      <td>0.037178</td>\n",
       "      <td>...</td>\n",
       "      <td>11217</td>\n",
       "      <td>1</td>\n",
       "      <td>2300.0</td>\n",
       "      <td>1</td>\n",
       "      <td>7</td>\n",
       "      <td>B</td>\n",
       "      <td>394253.299978</td>\n",
       "      <td>5050.687689</td>\n",
       "      <td>4200.086208</td>\n",
       "      <td>1.202520</td>\n",
       "    </tr>\n",
       "    <tr>\n",
       "      <th>6977</th>\n",
       "      <td>11602</td>\n",
       "      <td>30</td>\n",
       "      <td>2.0</td>\n",
       "      <td>638.163193</td>\n",
       "      <td>638.163193</td>\n",
       "      <td>10.0</td>\n",
       "      <td>20</td>\n",
       "      <td>19.0</td>\n",
       "      <td>2019.0</td>\n",
       "      <td>0.000078</td>\n",
       "      <td>...</td>\n",
       "      <td>6398</td>\n",
       "      <td>141</td>\n",
       "      <td>1046.0</td>\n",
       "      <td>3</td>\n",
       "      <td>23</td>\n",
       "      <td>B</td>\n",
       "      <td>133529.681562</td>\n",
       "      <td>208.293451</td>\n",
       "      <td>2948.218257</td>\n",
       "      <td>0.070651</td>\n",
       "    </tr>\n",
       "  </tbody>\n",
       "</table>\n",
       "<p>9 rows × 23 columns</p>\n",
       "</div>"
      ],
      "text/plain": [
       "          Id DistrictId  Rooms       Square   LifeSquare  KitchenSquare  \\\n",
       "590    14990         23    2.0   263.542020   263.542020            5.0   \n",
       "10410  11533         94    2.0   303.071094   303.071094            6.0   \n",
       "1981    7917         27    0.0   212.932361   211.231125           10.0   \n",
       "1982    5548         86    5.0   275.645284   233.949309           26.0   \n",
       "4328   16550         27    3.0  7480.592129  7480.592129           10.0   \n",
       "4690    2307        102    1.0   410.639749   410.639749           10.0   \n",
       "9910   16568         27    4.0   201.627361   201.627361           25.0   \n",
       "8437   15886         85    3.0   461.463614   461.463614           10.0   \n",
       "6977   11602         30    2.0   638.163193   638.163193           10.0   \n",
       "\n",
       "       Floor  HouseFloor  HouseYear  Ecology_1  ... Social_2 Social_3  \\\n",
       "590        6         5.0     1972.0   0.075779  ...     1437        3   \n",
       "10410      5        12.0     1974.0   0.521867  ...     6149        0   \n",
       "1981       2         3.0     2008.0   0.211401  ...     1892        0   \n",
       "1982      12        37.0     2011.0   0.161976  ...     7010        5   \n",
       "4328       9        17.0     2016.0   0.017647  ...      469        0   \n",
       "4690       4         4.0     2016.0   0.238617  ...     3889        6   \n",
       "9910       1         2.0     2013.0   0.041116  ...    14892        4   \n",
       "8437      12        16.0     1998.0   0.037178  ...    11217        1   \n",
       "6977      20        19.0     2019.0   0.000078  ...     6398      141   \n",
       "\n",
       "       Healthcare_1  Helthcare_2  Shops_1  Shops_2          Price  \\\n",
       "590             NaN            0        2        B  141780.231857   \n",
       "10410           NaN            0        0        B            NaN   \n",
       "1981            NaN            0        1        B  302211.260887   \n",
       "1982         4508.0            3        7        B  455264.882666   \n",
       "4328            NaN            0        0        B  217357.492366   \n",
       "4690          705.0            3        6        B   90470.430830   \n",
       "9910            NaN            1        4        B  528560.506016   \n",
       "8437         2300.0            1        7        B  394253.299978   \n",
       "6977         1046.0            3       23        B  133529.681562   \n",
       "\n",
       "       Price_for_metr Price_for_metr_District         k  \n",
       "590       2926.328235             2177.029497  1.344184  \n",
       "10410             NaN             4168.659674       NaN  \n",
       "1981      1419.282909             3040.333818  0.466818  \n",
       "1982      1651.633128             4830.045482  0.341950  \n",
       "4328      2660.616239             3040.333818  0.875107  \n",
       "4690       220.969386             3363.968996  0.065687  \n",
       "9910      2638.389304             3040.333818  0.867796  \n",
       "8437      5050.687689             4200.086208  1.202520  \n",
       "6977       208.293451             2948.218257  0.070651  \n",
       "\n",
       "[9 rows x 23 columns]"
      ]
     },
     "execution_count": 1342,
     "metadata": {},
     "output_type": "execute_result"
    }
   ],
   "source": [
    "LifeSquareHigh=df.LifeSquare.mean()+2*df.LifeSquare.std()\n",
    "df[df.LifeSquare>LifeSquareHigh]"
   ]
  },
  {
   "cell_type": "markdown",
   "metadata": {},
   "source": [
    "__Вывод__: сравнение показателя Square и LifeSquare для квартир с завышенной жилой площадью показывает на вероятную ошибку на порядок или два порядка при вводе жилой площади. Используем это сравнение для восстановления корректных цифр жилой площади."
   ]
  },
  {
   "cell_type": "code",
   "execution_count": 1343,
   "metadata": {},
   "outputs": [],
   "source": [
    "df.loc[df.LifeSquare/df.Square>20, 'LifeSquare']=df.LifeSquare/100\n",
    "df.loc[df.LifeSquare/df.Square>2, 'LifeSquare']=df.LifeSquare/10"
   ]
  },
  {
   "cell_type": "markdown",
   "metadata": {},
   "source": [
    "__Для пропусков значений LifeSquare__ используем формулу: \n",
    "\n",
    "Square-KitchenSquare - медианное значение площади вспомогательных помещений (HelpSquare)\n",
    "\n",
    "Формула расчета нового признака HelpSquare:\n",
    "\n",
    "\n",
    "HelpSquare=Square-KitchenSquare-LifeSquare"
   ]
  },
  {
   "cell_type": "code",
   "execution_count": 1344,
   "metadata": {},
   "outputs": [],
   "source": [
    "df.loc[df['LifeSquare'].notnull(),'HelpSquare']=df['Square']-df['LifeSquare']-df['KitchenSquare']"
   ]
  },
  {
   "cell_type": "markdown",
   "metadata": {},
   "source": [
    "Проверим количество квартир, для которых Square<LifeSquare+KitchenSquare"
   ]
  },
  {
   "cell_type": "code",
   "execution_count": 1345,
   "metadata": {},
   "outputs": [
    {
     "data": {
      "text/plain": [
       "1838"
      ]
     },
     "execution_count": 1345,
     "metadata": {},
     "output_type": "execute_result"
    }
   ],
   "source": [
    "df[df.HelpSquare<0].HelpSquare.count()"
   ]
  },
  {
   "cell_type": "markdown",
   "metadata": {},
   "source": [
    "__Промежуточный вывод__: обнаружено более 1000 квартир с некорректным расчетом жилой площади. "
   ]
  },
  {
   "cell_type": "code",
   "execution_count": 1346,
   "metadata": {},
   "outputs": [
    {
     "data": {
      "text/plain": [
       "12.512039041417424"
      ]
     },
     "execution_count": 1346,
     "metadata": {},
     "output_type": "execute_result"
    }
   ],
   "source": [
    "help_square_median=df[df.HelpSquare>0].HelpSquare.median()\n",
    "help_square_median"
   ]
  },
  {
   "cell_type": "markdown",
   "metadata": {},
   "source": [
    "Заполним пропуски и исправим некорректные значения жилой площажи на оценочные:"
   ]
  },
  {
   "cell_type": "code",
   "execution_count": 1347,
   "metadata": {},
   "outputs": [],
   "source": [
    "df.loc[(((df.HelpSquare.isnull()) | (df.HelpSquare<0)) & (df.Square>15)),'HelpSquare']=help_square_median"
   ]
  },
  {
   "cell_type": "code",
   "execution_count": 1348,
   "metadata": {
    "scrolled": true
   },
   "outputs": [],
   "source": [
    "df.loc[df.LifeSquare.isnull(),'LifeSquare']=df['Square']-df['HelpSquare']-df['KitchenSquare']\n",
    "df.loc[df.LifeSquare<0,'LifeSquare']=0"
   ]
  },
  {
   "cell_type": "markdown",
   "metadata": {},
   "source": [
    "## * Price_for_metr"
   ]
  },
  {
   "cell_type": "markdown",
   "metadata": {},
   "source": [
    "Обновим показатель цены за метр и проанализируем его разброс"
   ]
  },
  {
   "cell_type": "code",
   "execution_count": 1349,
   "metadata": {},
   "outputs": [
    {
     "data": {
      "text/plain": [
       "(0.00553, 0.211]      11\n",
       "(0.211, 0.412]       177\n",
       "(0.412, 0.614]       401\n",
       "(0.614, 0.815]      1434\n",
       "(0.815, 1.016]      4147\n",
       "(1.016, 1.218]      2979\n",
       "(1.218, 1.419]       694\n",
       "(1.419, 1.62]        113\n",
       "(1.62, 1.822]         28\n",
       "(1.822, 2.023]         9\n",
       "(2.023, 2.224]         2\n",
       "(2.224, 2.426]         0\n",
       "(2.426, 2.627]         1\n",
       "(2.627, 2.829]         1\n",
       "(2.829, 3.03]          0\n",
       "(3.03, 3.231]          0\n",
       "(3.231, 3.433]         1\n",
       "(3.433, 3.634]         1\n",
       "(3.634, 3.835]         0\n",
       "(3.835, 4.037]         1\n",
       "Name: k, dtype: int64"
      ]
     },
     "execution_count": 1349,
     "metadata": {},
     "output_type": "execute_result"
    }
   ],
   "source": [
    "df['Price_for_metr']=df.Price/df.Square\n",
    "df['k']=df.Price_for_metr/df.Price_for_metr_District\n",
    "pd.cut(df['k'],bins=20).value_counts().sort_index()"
   ]
  },
  {
   "cell_type": "markdown",
   "metadata": {},
   "source": [
    "Удалим квартиры с ценой за метр, более чем вдвое превышающие среднюю цену за метр в данном районе"
   ]
  },
  {
   "cell_type": "code",
   "execution_count": 1350,
   "metadata": {},
   "outputs": [],
   "source": [
    "df=df[(df['k']<2) | df['k'].isnull()]"
   ]
  },
  {
   "cell_type": "markdown",
   "metadata": {},
   "source": [
    "Повторим рассмотрение полученного соотношения. "
   ]
  },
  {
   "cell_type": "code",
   "execution_count": 1351,
   "metadata": {},
   "outputs": [
    {
     "data": {
      "text/plain": [
       "(0.00762, 0.107]       3\n",
       "(0.107, 0.204]         5\n",
       "(0.204, 0.301]        46\n",
       "(0.301, 0.398]       101\n",
       "(0.398, 0.495]       136\n",
       "(0.495, 0.592]       220\n",
       "(0.592, 0.689]       387\n",
       "(0.689, 0.786]       783\n",
       "(0.786, 0.883]      1468\n",
       "(0.883, 0.98]       2167\n",
       "(0.98, 1.077]       2063\n",
       "(1.077, 1.174]      1363\n",
       "(1.174, 1.271]       723\n",
       "(1.271, 1.368]       285\n",
       "(1.368, 1.465]       139\n",
       "(1.465, 1.562]        55\n",
       "(1.562, 1.659]        20\n",
       "(1.659, 1.756]        16\n",
       "(1.756, 1.853]         5\n",
       "(1.853, 1.95]          7\n",
       "Name: k, dtype: int64"
      ]
     },
     "execution_count": 1351,
     "metadata": {},
     "output_type": "execute_result"
    }
   ],
   "source": [
    "pd.cut(df['k'],bins=20).value_counts().sort_index()"
   ]
  },
  {
   "cell_type": "markdown",
   "metadata": {},
   "source": [
    "Удалим квартиры с заниженной ценой за квадратный метр"
   ]
  },
  {
   "cell_type": "code",
   "execution_count": 1352,
   "metadata": {},
   "outputs": [],
   "source": [
    "df=df[(df['k']>0.16)| df['k'].isnull()]"
   ]
  },
  {
   "cell_type": "markdown",
   "metadata": {},
   "source": [
    "Посмотрим на полученные распределения цен:"
   ]
  },
  {
   "cell_type": "code",
   "execution_count": 1353,
   "metadata": {},
   "outputs": [
    {
     "data": {
      "text/plain": [
       "(526.663, 1669.647]        240\n",
       "(1669.647, 2801.314]      1893\n",
       "(2801.314, 3932.982]      2943\n",
       "(3932.982, 5064.649]      3366\n",
       "(5064.649, 6196.316]      1190\n",
       "(6196.316, 7327.984]       278\n",
       "(7327.984, 8459.651]        57\n",
       "(8459.651, 9591.318]        15\n",
       "(9591.318, 10722.986]        3\n",
       "(10722.986, 11854.653]       4\n",
       "Name: Price_for_metr, dtype: int64"
      ]
     },
     "execution_count": 1353,
     "metadata": {},
     "output_type": "execute_result"
    }
   ],
   "source": [
    "# df=df.loc[(df['Price_for_metr']<12000) | df['Price_for_metr'].isnull()]\n",
    "pd.cut(df['Price_for_metr'],bins=10).value_counts().sort_index()"
   ]
  },
  {
   "cell_type": "markdown",
   "metadata": {},
   "source": [
    "__Добавим признак первого/вторго/последнего этажа__"
   ]
  },
  {
   "cell_type": "code",
   "execution_count": 1354,
   "metadata": {},
   "outputs": [],
   "source": [
    "# # добавим показатель цены за квадратный метр для выявления влияния других факторов\n",
    "# df['Price_1m']=df['Price']/df['Square']\n",
    "\n",
    "# df['TypeFloor']='middle'\n",
    "# df.loc[df.HouseFloor==df.Floor,'TypeFloor']='last'\n",
    "# df.loc[df.Floor==1,'TypeFloor']='first'\n",
    "# df.loc[df.Floor==2,'TypeFloor']='second'\n",
    "# добавим показатель медианной стоимости в районе"
   ]
  },
  {
   "cell_type": "markdown",
   "metadata": {},
   "source": [
    "__Преобразуем категориальные переменные в дамми переменные__"
   ]
  },
  {
   "cell_type": "code",
   "execution_count": 1355,
   "metadata": {},
   "outputs": [],
   "source": [
    "df['Ecology_2'] = train_df['Ecology_2'].replace({'A':0, 'B':1})\n",
    "df['Ecology_3'] = train_df['Ecology_3'].replace({'A':0, 'B':1})\n",
    "df['Shops_2'] = train_df['Shops_2'].replace({'A':0, 'B':1})"
   ]
  },
  {
   "cell_type": "markdown",
   "metadata": {},
   "source": [
    "Для регионов, отсутствующих в тестовой выборке, установим медианное значение Price_for_metr_District"
   ]
  },
  {
   "cell_type": "code",
   "execution_count": 1356,
   "metadata": {},
   "outputs": [],
   "source": [
    "price_median=df.Price_for_metr_District.median()\n",
    "df.loc[df.Price_for_metr_District.isnull(),'Price_for_metr_District']=price_median"
   ]
  },
  {
   "cell_type": "markdown",
   "metadata": {},
   "source": [
    "Для показателя отсутствующих значений Healthcare_1 установим медианное значение Healthcare_1"
   ]
  },
  {
   "cell_type": "code",
   "execution_count": 1357,
   "metadata": {},
   "outputs": [],
   "source": [
    "df.loc[df.Healthcare_1.isnull(), 'Healthcare_1']=df.Healthcare_1.median()"
   ]
  },
  {
   "cell_type": "code",
   "execution_count": 1358,
   "metadata": {},
   "outputs": [
    {
     "data": {
      "text/html": [
       "<div>\n",
       "<style scoped>\n",
       "    .dataframe tbody tr th:only-of-type {\n",
       "        vertical-align: middle;\n",
       "    }\n",
       "\n",
       "    .dataframe tbody tr th {\n",
       "        vertical-align: top;\n",
       "    }\n",
       "\n",
       "    .dataframe thead th {\n",
       "        text-align: right;\n",
       "    }\n",
       "</style>\n",
       "<table border=\"1\" class=\"dataframe\">\n",
       "  <thead>\n",
       "    <tr style=\"text-align: right;\">\n",
       "      <th></th>\n",
       "      <th>Id</th>\n",
       "      <th>DistrictId</th>\n",
       "      <th>Rooms</th>\n",
       "      <th>Square</th>\n",
       "      <th>LifeSquare</th>\n",
       "      <th>KitchenSquare</th>\n",
       "      <th>Floor</th>\n",
       "      <th>HouseFloor</th>\n",
       "      <th>HouseYear</th>\n",
       "      <th>Ecology_1</th>\n",
       "      <th>...</th>\n",
       "      <th>Social_3</th>\n",
       "      <th>Healthcare_1</th>\n",
       "      <th>Helthcare_2</th>\n",
       "      <th>Shops_1</th>\n",
       "      <th>Shops_2</th>\n",
       "      <th>Price</th>\n",
       "      <th>Price_for_metr</th>\n",
       "      <th>Price_for_metr_District</th>\n",
       "      <th>k</th>\n",
       "      <th>HelpSquare</th>\n",
       "    </tr>\n",
       "  </thead>\n",
       "  <tbody>\n",
       "  </tbody>\n",
       "</table>\n",
       "<p>0 rows × 24 columns</p>\n",
       "</div>"
      ],
      "text/plain": [
       "Empty DataFrame\n",
       "Columns: [Id, DistrictId, Rooms, Square, LifeSquare, KitchenSquare, Floor, HouseFloor, HouseYear, Ecology_1, Ecology_2, Ecology_3, Social_1, Social_2, Social_3, Healthcare_1, Helthcare_2, Shops_1, Shops_2, Price, Price_for_metr, Price_for_metr_District, k, HelpSquare]\n",
       "Index: []\n",
       "\n",
       "[0 rows x 24 columns]"
      ]
     },
     "execution_count": 1358,
     "metadata": {},
     "output_type": "execute_result"
    }
   ],
   "source": [
    "df[df.Price.isnull() & df.Id.isnull()]"
   ]
  },
  {
   "cell_type": "markdown",
   "metadata": {},
   "source": [
    "Приверим, все ли пропуски восстановлены:"
   ]
  },
  {
   "cell_type": "code",
   "execution_count": 1359,
   "metadata": {},
   "outputs": [
    {
     "data": {
      "text/plain": [
       "Id                         14989\n",
       "DistrictId                 14989\n",
       "Rooms                      14989\n",
       "Square                     14989\n",
       "LifeSquare                 14989\n",
       "KitchenSquare              14989\n",
       "Floor                      14989\n",
       "HouseFloor                 14989\n",
       "HouseYear                  14989\n",
       "Ecology_1                  14989\n",
       "Ecology_2                   9989\n",
       "Ecology_3                   9989\n",
       "Social_1                   14989\n",
       "Social_2                   14989\n",
       "Social_3                   14989\n",
       "Healthcare_1               14989\n",
       "Helthcare_2                14989\n",
       "Shops_1                    14989\n",
       "Shops_2                     9989\n",
       "Price                       9989\n",
       "Price_for_metr              9989\n",
       "Price_for_metr_District    14989\n",
       "k                           9989\n",
       "HelpSquare                 14989\n",
       "dtype: int64"
      ]
     },
     "execution_count": 1359,
     "metadata": {},
     "output_type": "execute_result"
    }
   ],
   "source": [
    "df.count()"
   ]
  },
  {
   "cell_type": "markdown",
   "metadata": {},
   "source": [
    "Обновим x_train, x_test"
   ]
  },
  {
   "cell_type": "code",
   "execution_count": 1360,
   "metadata": {},
   "outputs": [],
   "source": [
    "x_train = df[df[\"Price\"].notnull()]\n",
    "x_test = df[df[\"Price\"].isnull()]"
   ]
  },
  {
   "cell_type": "markdown",
   "metadata": {},
   "source": [
    "# Отбор признаков"
   ]
  },
  {
   "cell_type": "code",
   "execution_count": 1361,
   "metadata": {},
   "outputs": [],
   "source": [
    "feature_names=[\n",
    " 'Rooms',\n",
    " 'Square',\n",
    " 'LifeSquare',\n",
    " 'KitchenSquare',\n",
    " 'Floor',\n",
    " 'HouseFloor',\n",
    " 'HouseYear',\n",
    " 'Ecology_1',\n",
    " 'Social_1',\n",
    " 'Social_2',\n",
    " 'Social_3',\n",
    " 'Healthcare_1',\n",
    " 'Helthcare_2',\n",
    " 'Shops_1',\n",
    "#  'Ecology_2',\n",
    "#  'Ecology_3',\n",
    "#  'Shops_2',\n",
    "#  'first',\n",
    "#  'last',\n",
    "#  'middle',\n",
    "#  'second',\n",
    "    'Price_for_metr_District'\n",
    "#  ,'median_price_1m' \n",
    "]\n",
    "target_name = 'Price'"
   ]
  },
  {
   "cell_type": "markdown",
   "metadata": {},
   "source": [
    "# Стандартизация признаков"
   ]
  },
  {
   "cell_type": "code",
   "execution_count": 1362,
   "metadata": {},
   "outputs": [],
   "source": [
    "# feature_names_for_stand = df[feature_names].select_dtypes(include=['float64','int64']).columns.tolist()\n",
    "# feature_names_for_stand\n",
    "# scaler = StandardScaler()\n",
    "# stand_features = scaler.fit_transform(df[feature_names_for_stand])\n",
    "# df[feature_names_for_stand] = pd.DataFrame(stand_features, columns=feature_names_for_stand)"
   ]
  },
  {
   "cell_type": "markdown",
   "metadata": {},
   "source": [
    "# Разбиение на train и test"
   ]
  },
  {
   "cell_type": "code",
   "execution_count": 1363,
   "metadata": {},
   "outputs": [],
   "source": [
    "X = x_train[feature_names]\n",
    "y = x_train[target_name]\n",
    "X_train, X_valid, y_train, y_valid = train_test_split(X, y, test_size=0.33, shuffle=True, random_state=15)"
   ]
  },
  {
   "cell_type": "code",
   "execution_count": 1364,
   "metadata": {},
   "outputs": [
    {
     "data": {
      "text/plain": [
       "(3297,)"
      ]
     },
     "execution_count": 1364,
     "metadata": {},
     "output_type": "execute_result"
    }
   ],
   "source": [
    "y_valid.shape"
   ]
  },
  {
   "cell_type": "markdown",
   "metadata": {},
   "source": [
    "# Построение базовых моделей и выбор лучшей¶"
   ]
  },
  {
   "cell_type": "code",
   "execution_count": 1365,
   "metadata": {},
   "outputs": [],
   "source": [
    "def evaluate_preds(true_values, pred_values):\n",
    "    print(\"R2:\\t\" + str(round(r2(true_values, pred_values), 3)))\n",
    "    \n",
    "    plt.figure(figsize=(10,10))\n",
    "    \n",
    "    sb.scatterplot(x=pred_values, y=true_values)\n",
    "    plt.plot([true_values.min(), true_values.max()],\n",
    "             [true_values.min(), true_values.max()],\n",
    "             color=\"red\", linestyle=\"--\", alpha=0.5, linewidth=3)\n",
    "    \n",
    "    plt.xlabel('Predicted values')\n",
    "    plt.ylabel('True values')\n",
    "    plt.title('True vs Predicted values')\n",
    "    plt.show()"
   ]
  },
  {
   "cell_type": "markdown",
   "metadata": {},
   "source": [
    "# Gradient Boosting"
   ]
  },
  {
   "cell_type": "code",
   "execution_count": 1366,
   "metadata": {},
   "outputs": [],
   "source": [
    "# y_valid_preds = gb_model.predict(X_valid)\n",
    "# evaluate_preds(y_valid, y_valid_preds)"
   ]
  },
  {
   "cell_type": "markdown",
   "metadata": {},
   "source": [
    "# Настройка и оценка финальной модели"
   ]
  },
  {
   "cell_type": "code",
   "execution_count": 1367,
   "metadata": {},
   "outputs": [],
   "source": [
    "# gb_model = GradientBoostingRegressor(random_state=21)\n",
    "# gb_model\n",
    "# params = {'n_estimators':[50, 80,110,150], \n",
    "#           'max_depth': [3, 5,7,9]}\n",
    "\n",
    "# gs = GridSearchCV(\n",
    "#     gb_model, \n",
    "#     params, \n",
    "#     scoring='r2', \n",
    "#     cv=KFold(n_splits=5, random_state=21, shuffle=True),\n",
    "#     n_jobs=-1\n",
    "# )\n",
    "# gs.fit(X, y)\n",
    "# gs.best_params_"
   ]
  },
  {
   "cell_type": "code",
   "execution_count": 1368,
   "metadata": {},
   "outputs": [
    {
     "data": {
      "text/plain": [
       "GradientBoostingRegressor(alpha=0.9, ccp_alpha=0.0, criterion='friedman_mse',\n",
       "                          init=None, learning_rate=0.1, loss='ls', max_depth=3,\n",
       "                          max_features=None, max_leaf_nodes=None,\n",
       "                          min_impurity_decrease=0.0, min_impurity_split=None,\n",
       "                          min_samples_leaf=1, min_samples_split=2,\n",
       "                          min_weight_fraction_leaf=0.0, n_estimators=150,\n",
       "                          n_iter_no_change=None, presort='deprecated',\n",
       "                          random_state=21, subsample=1.0, tol=0.0001,\n",
       "                          validation_fraction=0.1, verbose=0, warm_start=False)"
      ]
     },
     "execution_count": 1368,
     "metadata": {},
     "output_type": "execute_result"
    }
   ],
   "source": [
    "final_model = GradientBoostingRegressor(n_estimators=150, max_depth=3, random_state=21)\n",
    "final_model.fit(X_train, y_train)"
   ]
  },
  {
   "cell_type": "code",
   "execution_count": 1369,
   "metadata": {},
   "outputs": [
    {
     "name": "stdout",
     "output_type": "stream",
     "text": [
      "R2:\t0.808\n"
     ]
    },
    {
     "data": {
      "image/png": "[encoded data removed]",
      "text/plain": [
       "<Figure size 720x720 with 1 Axes>"
      ]
     },
     "metadata": {
      "needs_background": "light"
     },
     "output_type": "display_data"
    }
   ],
   "source": [
    "y_train_preds = final_model.predict(X_train)\n",
    "evaluate_preds(y_train, y_train_preds)"
   ]
  },
  {
   "cell_type": "code",
   "execution_count": 1370,
   "metadata": {},
   "outputs": [
    {
     "name": "stdout",
     "output_type": "stream",
     "text": [
      "R2:\t0.756\n"
     ]
    },
    {
     "data": {
      "image/png": "[encoded data removed]",
      "text/plain": [
       "<Figure size 720x720 with 1 Axes>"
      ]
     },
     "metadata": {
      "needs_background": "light"
     },
     "output_type": "display_data"
    }
   ],
   "source": [
    "y_valid_preds = final_model.predict(X_valid)\n",
    "evaluate_preds(y_valid, y_valid_preds)"
   ]
  },
  {
   "cell_type": "code",
   "execution_count": 1371,
   "metadata": {},
   "outputs": [
    {
     "data": {
      "text/html": [
       "<div>\n",
       "<style scoped>\n",
       "    .dataframe tbody tr th:only-of-type {\n",
       "        vertical-align: middle;\n",
       "    }\n",
       "\n",
       "    .dataframe tbody tr th {\n",
       "        vertical-align: top;\n",
       "    }\n",
       "\n",
       "    .dataframe thead th {\n",
       "        text-align: right;\n",
       "    }\n",
       "</style>\n",
       "<table border=\"1\" class=\"dataframe\">\n",
       "  <thead>\n",
       "    <tr style=\"text-align: right;\">\n",
       "      <th></th>\n",
       "      <th>feature_name</th>\n",
       "      <th>importance</th>\n",
       "    </tr>\n",
       "  </thead>\n",
       "  <tbody>\n",
       "    <tr>\n",
       "      <th>1</th>\n",
       "      <td>Square</td>\n",
       "      <td>0.486401</td>\n",
       "    </tr>\n",
       "    <tr>\n",
       "      <th>14</th>\n",
       "      <td>Price_for_metr_District</td>\n",
       "      <td>0.386297</td>\n",
       "    </tr>\n",
       "    <tr>\n",
       "      <th>6</th>\n",
       "      <td>HouseYear</td>\n",
       "      <td>0.025365</td>\n",
       "    </tr>\n",
       "    <tr>\n",
       "      <th>0</th>\n",
       "      <td>Rooms</td>\n",
       "      <td>0.023022</td>\n",
       "    </tr>\n",
       "    <tr>\n",
       "      <th>9</th>\n",
       "      <td>Social_2</td>\n",
       "      <td>0.013564</td>\n",
       "    </tr>\n",
       "    <tr>\n",
       "      <th>10</th>\n",
       "      <td>Social_3</td>\n",
       "      <td>0.012485</td>\n",
       "    </tr>\n",
       "    <tr>\n",
       "      <th>5</th>\n",
       "      <td>HouseFloor</td>\n",
       "      <td>0.009014</td>\n",
       "    </tr>\n",
       "    <tr>\n",
       "      <th>3</th>\n",
       "      <td>KitchenSquare</td>\n",
       "      <td>0.008297</td>\n",
       "    </tr>\n",
       "    <tr>\n",
       "      <th>11</th>\n",
       "      <td>Healthcare_1</td>\n",
       "      <td>0.007310</td>\n",
       "    </tr>\n",
       "    <tr>\n",
       "      <th>4</th>\n",
       "      <td>Floor</td>\n",
       "      <td>0.006789</td>\n",
       "    </tr>\n",
       "    <tr>\n",
       "      <th>8</th>\n",
       "      <td>Social_1</td>\n",
       "      <td>0.006447</td>\n",
       "    </tr>\n",
       "    <tr>\n",
       "      <th>2</th>\n",
       "      <td>LifeSquare</td>\n",
       "      <td>0.005637</td>\n",
       "    </tr>\n",
       "    <tr>\n",
       "      <th>7</th>\n",
       "      <td>Ecology_1</td>\n",
       "      <td>0.004468</td>\n",
       "    </tr>\n",
       "    <tr>\n",
       "      <th>12</th>\n",
       "      <td>Helthcare_2</td>\n",
       "      <td>0.004306</td>\n",
       "    </tr>\n",
       "    <tr>\n",
       "      <th>13</th>\n",
       "      <td>Shops_1</td>\n",
       "      <td>0.000598</td>\n",
       "    </tr>\n",
       "  </tbody>\n",
       "</table>\n",
       "</div>"
      ],
      "text/plain": [
       "               feature_name  importance\n",
       "1                    Square    0.486401\n",
       "14  Price_for_metr_District    0.386297\n",
       "6                 HouseYear    0.025365\n",
       "0                     Rooms    0.023022\n",
       "9                  Social_2    0.013564\n",
       "10                 Social_3    0.012485\n",
       "5                HouseFloor    0.009014\n",
       "3             KitchenSquare    0.008297\n",
       "11             Healthcare_1    0.007310\n",
       "4                     Floor    0.006789\n",
       "8                  Social_1    0.006447\n",
       "2                LifeSquare    0.005637\n",
       "7                 Ecology_1    0.004468\n",
       "12              Helthcare_2    0.004306\n",
       "13                  Shops_1    0.000598"
      ]
     },
     "execution_count": 1371,
     "metadata": {},
     "output_type": "execute_result"
    }
   ],
   "source": [
    "feature_importances = pd.DataFrame(zip(X_train.columns, final_model.feature_importances_), \n",
    "                                   columns=['feature_name', 'importance'])\n",
    "\n",
    "feature_importances.sort_values(by='importance', ascending=False)"
   ]
  },
  {
   "cell_type": "code",
   "execution_count": 1372,
   "metadata": {},
   "outputs": [
    {
     "name": "stdout",
     "output_type": "stream",
     "text": [
      "base_score\n",
      "Rooms : score - base_score = -0.007\n",
      "Square : score - base_score = -0.726\n",
      "LifeSquare : score - base_score = -0.001\n",
      "KitchenSquare : score - base_score = -0.003\n",
      "Floor : score - base_score = -0.006\n",
      "HouseFloor : score - base_score = -0.014\n",
      "HouseYear : score - base_score = -0.024\n",
      "Ecology_1 : score - base_score = -0.005\n",
      "Social_1 : score - base_score = -0.006\n",
      "Social_2 : score - base_score = -0.005\n",
      "Social_3 : score - base_score = -0.015\n",
      "Healthcare_1 : score - base_score = -0.003\n",
      "Helthcare_2 : score - base_score = -0.001\n",
      "Shops_1 : score - base_score = -0.0\n",
      "Price_for_metr_District : score - base_score = -0.488\n"
     ]
    }
   ],
   "source": [
    "base_score=r2(y_valid, final_model.predict(X_valid))\n",
    "print('base_score')\n",
    "for feature in feature_names:\n",
    "    X_valid1=X_valid.copy()\n",
    "    X_valid1[feature] = np.random.permutation(X_valid1[feature])\n",
    "    score=r2(y_valid, final_model.predict(X_valid1))\n",
    "    print(feature, ': score', '-','base_score','=',round(score-base_score,3))\n",
    "    "
   ]
  },
  {
   "cell_type": "markdown",
   "metadata": {},
   "source": [
    "__Вывод:__ все параметры в модели значимы, исключение нецелессобразно"
   ]
  },
  {
   "cell_type": "code",
   "execution_count": 1373,
   "metadata": {},
   "outputs": [],
   "source": [
    "y_test_predict=final_model.predict(x_test[feature_names])"
   ]
  },
  {
   "cell_type": "code",
   "execution_count": 1374,
   "metadata": {},
   "outputs": [],
   "source": [
    "y_itog = pd.DataFrame(zip(x_test.Id, y_test_predict), \n",
    "                                   columns=['Id', 'Price'])\n",
    "y_itog.to_csv('SRuchkina_predictions.csv', index=False)"
   ]
  }
 ],
 "metadata": {
  "kernelspec": {
   "display_name": "Python 3",
   "language": "python",
   "name": "python3"
  },
  "language_info": {
   "codemirror_mode": {
    "name": "ipython",
    "version": 3
   },
   "file_extension": ".py",
   "mimetype": "text/x-python",
   "name": "python",
   "nbconvert_exporter": "python",
   "pygments_lexer": "ipython3",
   "version": "3.7.6"
  }
 },
 "nbformat": 4,
 "nbformat_minor": 4
}
